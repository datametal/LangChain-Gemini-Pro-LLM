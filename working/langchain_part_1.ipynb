{
 "cells": [
  {
   "cell_type": "code",
   "execution_count": null,
   "metadata": {},
   "outputs": [],
   "source": [
    "from dotenv import load_dotenv\n",
    "import os  # provides ways to access the Operating System and allows us to read the environment variables\n",
    "\n",
    "load_dotenv()\n",
    "\n",
    "GOOGLE_AI_KEY = os.getenv(\"GOOGLE_AI_KEY_021124\")\n",
    "GOOGLE_API_KEY = GOOGLE_AI_KEY"
   ]
  },
  {
   "cell_type": "code",
   "execution_count": 6,
   "metadata": {},
   "outputs": [],
   "source": [
    "from langchain_google_genai import ChatGoogleGenerativeAI\n",
    "from langchain_core.prompts import ChatPromptTemplate\n",
    "from langchain.chains import LLMChain\n",
    "\n",
    "prompt = ChatPromptTemplate.from_messages(\n",
    "    [\n",
    "        (\"system\", \"You are world class technical documentation writer.\"),\n",
    "        (\"user\", \"{input}\"),\n",
    "    ]\n",
    ")\n",
    "\n",
    "llm = ChatGoogleGenerativeAI(\n",
    "    model=\"gemini-pro\",\n",
    "    google_api_key=GOOGLE_API_KEY,\n",
    "    convert_system_message_to_human=True,\n",
    ")\n",
    "\n",
    "chain = prompt | llm"
   ]
  },
  {
   "cell_type": "code",
   "execution_count": 7,
   "metadata": {},
   "outputs": [
    {
     "data": {
      "text/html": [
       "<pre style=\"white-space:pre;overflow-x:auto;line-height:normal;font-family:Menlo,'DejaVu Sans Mono',consolas,'Courier New',monospace\"><span style=\"color: #008080; text-decoration-color: #008080; font-weight: bold\">1</span>. **Automated Testing:** \n",
       "Langsmith can be integrated with automated testing frameworks to generate comprehensive test cases and test \n",
       "scripts. This helps in identifying potential issues early in the development cycle, reducing the need for manual \n",
       "testing.\n",
       "\n",
       "\n",
       "<span style=\"color: #008080; text-decoration-color: #008080; font-weight: bold\">2</span>. **User Interface Testing:** \n",
       "Langsmith can generate user interface <span style=\"font-weight: bold\">(</span>UI<span style=\"font-weight: bold\">)</span> test cases based on the documentation. This helps in verifying the \n",
       "functionality, usability, and accessibility of the UI, ensuring that it meets the design specifications.\n",
       "\n",
       "\n",
       "<span style=\"color: #008080; text-decoration-color: #008080; font-weight: bold\">3</span>. **API Testing:** \n",
       "Langsmith can generate API test cases based on the API documentation. This helps in testing the functionality, \n",
       "reliability, and security of the APIs, ensuring that they are working as expected.\n",
       "\n",
       "\n",
       "<span style=\"color: #008080; text-decoration-color: #008080; font-weight: bold\">4</span>. **Performance Testing:** \n",
       "Langsmith can generate performance test cases to evaluate the system's performance under different load conditions.\n",
       "This helps in identifying bottlenecks and optimizing the system for better performance.\n",
       "\n",
       "\n",
       "<span style=\"color: #008080; text-decoration-color: #008080; font-weight: bold\">5</span>. **Security Testing:** \n",
       "Langsmith can generate security test cases based on the security requirements and documentation. This helps in \n",
       "identifying vulnerabilities and weaknesses in the system, ensuring that it is secure against potential attacks.\n",
       "\n",
       "\n",
       "<span style=\"color: #008080; text-decoration-color: #008080; font-weight: bold\">6</span>. **Regression Testing:** \n",
       "Langsmith can generate regression test cases to verify that new changes or updates to the system do not break \n",
       "existing functionalities. This helps in maintaining the stability and reliability of the system.\n",
       "\n",
       "\n",
       "<span style=\"color: #008080; text-decoration-color: #008080; font-weight: bold\">7</span>. **Exploratory Testing:** \n",
       "Langsmith can generate exploratory testing scenarios to help testers explore the system in a structured manner. \n",
       "This helps in discovering hidden defects and identifying areas for improvement.\n",
       "\n",
       "\n",
       "<span style=\"color: #008080; text-decoration-color: #008080; font-weight: bold\">8</span>. **Test Case Prioritization:** \n",
       "Langsmith can help prioritize test cases based on their impact, risk, and coverage. This helps in optimizing the \n",
       "testing effort and focusing on the most critical areas first.\n",
       "\n",
       "\n",
       "<span style=\"color: #008080; text-decoration-color: #008080; font-weight: bold\">9</span>. **Test Case Management:** \n",
       "Langsmith can be used to manage test cases, track their status, and monitor the overall testing progress. This \n",
       "helps in ensuring that all test cases are executed and that the testing process is efficient and effective.\n",
       "\n",
       "\n",
       "<span style=\"color: #008080; text-decoration-color: #008080; font-weight: bold\">10</span>. **Test Reporting:** \n",
       "Langsmith can generate comprehensive test reports that summarize the testing results, identify defects, and provide\n",
       "insights into the overall quality of the system. This helps stakeholders understand the testing outcomes and make \n",
       "informed decisions.\n",
       "</pre>\n"
      ],
      "text/plain": [
       "\u001b[1;36m1\u001b[0m. **Automated Testing:** \n",
       "Langsmith can be integrated with automated testing frameworks to generate comprehensive test cases and test \n",
       "scripts. This helps in identifying potential issues early in the development cycle, reducing the need for manual \n",
       "testing.\n",
       "\n",
       "\n",
       "\u001b[1;36m2\u001b[0m. **User Interface Testing:** \n",
       "Langsmith can generate user interface \u001b[1m(\u001b[0mUI\u001b[1m)\u001b[0m test cases based on the documentation. This helps in verifying the \n",
       "functionality, usability, and accessibility of the UI, ensuring that it meets the design specifications.\n",
       "\n",
       "\n",
       "\u001b[1;36m3\u001b[0m. **API Testing:** \n",
       "Langsmith can generate API test cases based on the API documentation. This helps in testing the functionality, \n",
       "reliability, and security of the APIs, ensuring that they are working as expected.\n",
       "\n",
       "\n",
       "\u001b[1;36m4\u001b[0m. **Performance Testing:** \n",
       "Langsmith can generate performance test cases to evaluate the system's performance under different load conditions.\n",
       "This helps in identifying bottlenecks and optimizing the system for better performance.\n",
       "\n",
       "\n",
       "\u001b[1;36m5\u001b[0m. **Security Testing:** \n",
       "Langsmith can generate security test cases based on the security requirements and documentation. This helps in \n",
       "identifying vulnerabilities and weaknesses in the system, ensuring that it is secure against potential attacks.\n",
       "\n",
       "\n",
       "\u001b[1;36m6\u001b[0m. **Regression Testing:** \n",
       "Langsmith can generate regression test cases to verify that new changes or updates to the system do not break \n",
       "existing functionalities. This helps in maintaining the stability and reliability of the system.\n",
       "\n",
       "\n",
       "\u001b[1;36m7\u001b[0m. **Exploratory Testing:** \n",
       "Langsmith can generate exploratory testing scenarios to help testers explore the system in a structured manner. \n",
       "This helps in discovering hidden defects and identifying areas for improvement.\n",
       "\n",
       "\n",
       "\u001b[1;36m8\u001b[0m. **Test Case Prioritization:** \n",
       "Langsmith can help prioritize test cases based on their impact, risk, and coverage. This helps in optimizing the \n",
       "testing effort and focusing on the most critical areas first.\n",
       "\n",
       "\n",
       "\u001b[1;36m9\u001b[0m. **Test Case Management:** \n",
       "Langsmith can be used to manage test cases, track their status, and monitor the overall testing progress. This \n",
       "helps in ensuring that all test cases are executed and that the testing process is efficient and effective.\n",
       "\n",
       "\n",
       "\u001b[1;36m10\u001b[0m. **Test Reporting:** \n",
       "Langsmith can generate comprehensive test reports that summarize the testing results, identify defects, and provide\n",
       "insights into the overall quality of the system. This helps stakeholders understand the testing outcomes and make \n",
       "informed decisions.\n"
      ]
     },
     "metadata": {},
     "output_type": "display_data"
    }
   ],
   "source": [
    "from rich import print\n",
    "resp = chain.invoke({\"input\": \"how can langsmith help with testing?\"})\n",
    "print(resp.content)"
   ]
  },
  {
   "cell_type": "code",
   "execution_count": 8,
   "metadata": {},
   "outputs": [],
   "source": [
    "from langchain_core.output_parsers import StrOutputParser\n",
    "\n",
    "output_parser = StrOutputParser()"
   ]
  },
  {
   "cell_type": "code",
   "execution_count": 9,
   "metadata": {},
   "outputs": [],
   "source": [
    "chain = prompt | llm | output_parser"
   ]
  },
  {
   "cell_type": "code",
   "execution_count": 10,
   "metadata": {},
   "outputs": [
    {
     "data": {
      "text/html": [
       "<pre style=\"white-space:pre;overflow-x:auto;line-height:normal;font-family:Menlo,'DejaVu Sans Mono',consolas,'Courier New',monospace\"><span style=\"color: #008080; text-decoration-color: #008080; font-weight: bold\">1</span>. **Automated Testing:** Langsmith can generate automated tests from natural language requirements. This can save \n",
       "time and effort for testers, as they don't have to manually create tests.\n",
       "\n",
       "<span style=\"color: #008080; text-decoration-color: #008080; font-weight: bold\">2</span>. **Test Documentation:** Langsmith can generate test documentation from natural language requirements. This can \n",
       "help testers understand the requirements and how to test them.\n",
       "\n",
       "<span style=\"color: #008080; text-decoration-color: #008080; font-weight: bold\">3</span>. **Test Case Generation:** Langsmith can generate test cases from natural language requirements. This can help \n",
       "testers create test cases that cover the requirements.\n",
       "\n",
       "<span style=\"color: #008080; text-decoration-color: #008080; font-weight: bold\">4</span>. **Test Report Generation:** Langsmith can generate test reports from the results of automated tests. This can \n",
       "help testers understand the results of the tests and identify any areas that need improvement.\n",
       "\n",
       "<span style=\"color: #008080; text-decoration-color: #008080; font-weight: bold\">5</span>. **Integration with Testing Tools:** Langsmith can integrate with testing tools such as Jira, TestRail, and \n",
       "Selenium. This can help testers manage and track their testing activities.\n",
       "\n",
       "<span style=\"color: #008080; text-decoration-color: #008080; font-weight: bold\">6</span>. **Natural Language Processing:** Langsmith uses natural language processing <span style=\"font-weight: bold\">(</span>NLP<span style=\"font-weight: bold\">)</span> to understand the requirements\n",
       "and generate tests. This makes it easy for testers to use Langsmith, even if they don't have a technical \n",
       "background.\n",
       "\n",
       "<span style=\"color: #008080; text-decoration-color: #008080; font-weight: bold\">7</span>. **Collaboration:** Langsmith allows multiple testers to collaborate on test creation and execution. This can \n",
       "help testers share ideas and improve the quality of the tests.\n",
       "\n",
       "<span style=\"color: #008080; text-decoration-color: #008080; font-weight: bold\">8</span>. **Continuous Testing:** Langsmith can be used for continuous testing. This means that tests can be run \n",
       "automatically as the code changes, which can help to identify defects early in the development process.\n",
       "\n",
       "<span style=\"color: #008080; text-decoration-color: #008080; font-weight: bold\">9</span>. **Scalability:** Langsmith can be used to test large and complex systems. This is because Langsmith can generate\n",
       "tests automatically, which can save time and effort for testers.\n",
       "\n",
       "<span style=\"color: #008080; text-decoration-color: #008080; font-weight: bold\">10</span>. **Cost-Effectiveness:** Langsmith is a cost-effective way to improve the quality of testing. This is because \n",
       "Langsmith can automate the testing process and generate tests from natural language requirements.\n",
       "</pre>\n"
      ],
      "text/plain": [
       "\u001b[1;36m1\u001b[0m. **Automated Testing:** Langsmith can generate automated tests from natural language requirements. This can save \n",
       "time and effort for testers, as they don't have to manually create tests.\n",
       "\n",
       "\u001b[1;36m2\u001b[0m. **Test Documentation:** Langsmith can generate test documentation from natural language requirements. This can \n",
       "help testers understand the requirements and how to test them.\n",
       "\n",
       "\u001b[1;36m3\u001b[0m. **Test Case Generation:** Langsmith can generate test cases from natural language requirements. This can help \n",
       "testers create test cases that cover the requirements.\n",
       "\n",
       "\u001b[1;36m4\u001b[0m. **Test Report Generation:** Langsmith can generate test reports from the results of automated tests. This can \n",
       "help testers understand the results of the tests and identify any areas that need improvement.\n",
       "\n",
       "\u001b[1;36m5\u001b[0m. **Integration with Testing Tools:** Langsmith can integrate with testing tools such as Jira, TestRail, and \n",
       "Selenium. This can help testers manage and track their testing activities.\n",
       "\n",
       "\u001b[1;36m6\u001b[0m. **Natural Language Processing:** Langsmith uses natural language processing \u001b[1m(\u001b[0mNLP\u001b[1m)\u001b[0m to understand the requirements\n",
       "and generate tests. This makes it easy for testers to use Langsmith, even if they don't have a technical \n",
       "background.\n",
       "\n",
       "\u001b[1;36m7\u001b[0m. **Collaboration:** Langsmith allows multiple testers to collaborate on test creation and execution. This can \n",
       "help testers share ideas and improve the quality of the tests.\n",
       "\n",
       "\u001b[1;36m8\u001b[0m. **Continuous Testing:** Langsmith can be used for continuous testing. This means that tests can be run \n",
       "automatically as the code changes, which can help to identify defects early in the development process.\n",
       "\n",
       "\u001b[1;36m9\u001b[0m. **Scalability:** Langsmith can be used to test large and complex systems. This is because Langsmith can generate\n",
       "tests automatically, which can save time and effort for testers.\n",
       "\n",
       "\u001b[1;36m10\u001b[0m. **Cost-Effectiveness:** Langsmith is a cost-effective way to improve the quality of testing. This is because \n",
       "Langsmith can automate the testing process and generate tests from natural language requirements.\n"
      ]
     },
     "metadata": {},
     "output_type": "display_data"
    }
   ],
   "source": [
    "resp = chain.invoke({\"input\": \"how can langsmith help with testing?\"})\n",
    "print(resp)"
   ]
  },
  {
   "cell_type": "code",
   "execution_count": 11,
   "metadata": {},
   "outputs": [],
   "source": [
    "from langchain_community.document_loaders import WebBaseLoader\n",
    "\n",
    "loader = WebBaseLoader(\"https://docs.smith.langchain.com/overview\")\n",
    "\n",
    "docs = loader.load()"
   ]
  },
  {
   "cell_type": "code",
   "execution_count": 12,
   "metadata": {},
   "outputs": [],
   "source": [
    "from langchain.embeddings import HuggingFaceEmbeddings\n",
    "\n",
    "# Using HuggingFace embeddings\n",
    "embeddings = HuggingFaceEmbeddings()"
   ]
  },
  {
   "cell_type": "code",
   "execution_count": 13,
   "metadata": {},
   "outputs": [],
   "source": [
    "from langchain_community.vectorstores import FAISS\n",
    "from langchain.text_splitter import RecursiveCharacterTextSplitter\n",
    "\n",
    "\n",
    "text_splitter = RecursiveCharacterTextSplitter()\n",
    "documents = text_splitter.split_documents(docs)\n",
    "vector = FAISS.from_documents(\n",
    "    documents,\n",
    "    HuggingFaceEmbeddings(model_name=\"sentence-transformers/all-mpnet-base-v2\"),\n",
    ")"
   ]
  },
  {
   "cell_type": "code",
   "execution_count": 14,
   "metadata": {},
   "outputs": [],
   "source": [
    "from langchain.chains.combine_documents import create_stuff_documents_chain\n",
    "\n",
    "prompt = ChatPromptTemplate.from_template(\n",
    "    \"\"\"Answer the following question based only on the provided context:\n",
    "\n",
    "<context>\n",
    "{context}\n",
    "</context>\n",
    "\n",
    "Question: {input}\"\"\"\n",
    ")\n",
    "\n",
    "document_chain = create_stuff_documents_chain(llm, prompt)"
   ]
  },
  {
   "cell_type": "code",
   "execution_count": 15,
   "metadata": {},
   "outputs": [
    {
     "data": {
      "text/plain": [
       "'Langsmith can help with testing by letting you visualize test results.'"
      ]
     },
     "execution_count": 15,
     "metadata": {},
     "output_type": "execute_result"
    }
   ],
   "source": [
    "from langchain_core.documents import Document\n",
    "\n",
    "document_chain.invoke(\n",
    "    {\n",
    "        \"input\": \"how can langsmith help with testing?\",\n",
    "        \"context\": [\n",
    "            Document(page_content=\"langsmith can let you visualize test results\")\n",
    "        ],\n",
    "    }\n",
    ")"
   ]
  },
  {
   "cell_type": "code",
   "execution_count": 17,
   "metadata": {},
   "outputs": [],
   "source": [
    "from langchain.chains import create_retrieval_chain\n",
    "\n",
    "retriever = vector.as_retriever()\n",
    "retrieval_chain = create_retrieval_chain(retriever, document_chain)"
   ]
  },
  {
   "cell_type": "code",
   "execution_count": 18,
   "metadata": {},
   "outputs": [
    {
     "data": {
      "text/html": [
       "<pre style=\"white-space:pre;overflow-x:auto;line-height:normal;font-family:Menlo,'DejaVu Sans Mono',consolas,'Courier New',monospace\">LangSmith can help with testing by allowing users to run a chain over data points and visualize the outputs, assign\n",
       "feedback to runs and mark them as correct or incorrect directly in the web app, and use a set of evaluators to \n",
       "evaluate the results once the test run completes. Additionally, LangSmith makes it easy to manually review and \n",
       "annotate runs through annotation queues, which can be used to assess subjective qualities that automatic evaluators\n",
       "struggle with, like creativity or humor, and to sample and validate a subset of runs that were auto-evaluated.\n",
       "</pre>\n"
      ],
      "text/plain": [
       "LangSmith can help with testing by allowing users to run a chain over data points and visualize the outputs, assign\n",
       "feedback to runs and mark them as correct or incorrect directly in the web app, and use a set of evaluators to \n",
       "evaluate the results once the test run completes. Additionally, LangSmith makes it easy to manually review and \n",
       "annotate runs through annotation queues, which can be used to assess subjective qualities that automatic evaluators\n",
       "struggle with, like creativity or humor, and to sample and validate a subset of runs that were auto-evaluated.\n"
      ]
     },
     "metadata": {},
     "output_type": "display_data"
    }
   ],
   "source": [
    "response = retrieval_chain.invoke({\"input\": \"how can langsmith help with testing?\"})\n",
    "print(response[\"answer\"])"
   ]
  },
  {
   "cell_type": "markdown",
   "metadata": {},
   "source": [
    "##**Run Converstation Retrieval chain with history**\n",
    "The provided way in LangChain quickstart guide throws error when we use Google Gemini with LangChain. There might be support issue of Langchain with Google Gemini. This is alternative method."
   ]
  },
  {
   "cell_type": "code",
   "execution_count": 19,
   "metadata": {},
   "outputs": [
    {
     "data": {
      "application/vnd.jupyter.widget-view+json": {
       "model_id": "8ca307ddf071404e8000f8d66b5d4e5d",
       "version_major": 2,
       "version_minor": 0
      },
      "text/plain": [
       ".gitattributes:   0%|          | 0.00/1.18k [00:00<?, ?B/s]"
      ]
     },
     "metadata": {},
     "output_type": "display_data"
    },
    {
     "data": {
      "application/vnd.jupyter.widget-view+json": {
       "model_id": "8d957a08b3f249238950665efd414005",
       "version_major": 2,
       "version_minor": 0
      },
      "text/plain": [
       "1_Pooling/config.json:   0%|          | 0.00/190 [00:00<?, ?B/s]"
      ]
     },
     "metadata": {},
     "output_type": "display_data"
    },
    {
     "data": {
      "application/vnd.jupyter.widget-view+json": {
       "model_id": "a3603c16b97b48dcb0f173abcf69434b",
       "version_major": 2,
       "version_minor": 0
      },
      "text/plain": [
       "README.md:   0%|          | 0.00/10.6k [00:00<?, ?B/s]"
      ]
     },
     "metadata": {},
     "output_type": "display_data"
    },
    {
     "data": {
      "application/vnd.jupyter.widget-view+json": {
       "model_id": "8efdc655cfc4441ebaedfa5d5f51f19a",
       "version_major": 2,
       "version_minor": 0
      },
      "text/plain": [
       "config.json:   0%|          | 0.00/573 [00:00<?, ?B/s]"
      ]
     },
     "metadata": {},
     "output_type": "display_data"
    },
    {
     "data": {
      "application/vnd.jupyter.widget-view+json": {
       "model_id": "c1173d8de23b486a8dfbb9cdce9b905e",
       "version_major": 2,
       "version_minor": 0
      },
      "text/plain": [
       "config_sentence_transformers.json:   0%|          | 0.00/116 [00:00<?, ?B/s]"
      ]
     },
     "metadata": {},
     "output_type": "display_data"
    },
    {
     "data": {
      "application/vnd.jupyter.widget-view+json": {
       "model_id": "8eb5abdc92884596a9636f884c375a8b",
       "version_major": 2,
       "version_minor": 0
      },
      "text/plain": [
       "data_config.json:   0%|          | 0.00/39.3k [00:00<?, ?B/s]"
      ]
     },
     "metadata": {},
     "output_type": "display_data"
    },
    {
     "data": {
      "application/vnd.jupyter.widget-view+json": {
       "model_id": "52bb3b2dbd47427c8ccf4d1d107fe905",
       "version_major": 2,
       "version_minor": 0
      },
      "text/plain": [
       "pytorch_model.bin:   0%|          | 0.00/134M [00:00<?, ?B/s]"
      ]
     },
     "metadata": {},
     "output_type": "display_data"
    },
    {
     "data": {
      "application/vnd.jupyter.widget-view+json": {
       "model_id": "902bb14c73aa4aee8401d6b4816ca1cc",
       "version_major": 2,
       "version_minor": 0
      },
      "text/plain": [
       "sentence_bert_config.json:   0%|          | 0.00/53.0 [00:00<?, ?B/s]"
      ]
     },
     "metadata": {},
     "output_type": "display_data"
    },
    {
     "data": {
      "application/vnd.jupyter.widget-view+json": {
       "model_id": "125f186cfd934b83a9ff01b9d030c54b",
       "version_major": 2,
       "version_minor": 0
      },
      "text/plain": [
       "special_tokens_map.json:   0%|          | 0.00/112 [00:00<?, ?B/s]"
      ]
     },
     "metadata": {},
     "output_type": "display_data"
    },
    {
     "data": {
      "application/vnd.jupyter.widget-view+json": {
       "model_id": "beee2833bb1c45c7ab7259d0288cd458",
       "version_major": 2,
       "version_minor": 0
      },
      "text/plain": [
       "tokenizer.json:   0%|          | 0.00/466k [00:00<?, ?B/s]"
      ]
     },
     "metadata": {},
     "output_type": "display_data"
    },
    {
     "data": {
      "application/vnd.jupyter.widget-view+json": {
       "model_id": "3e6b4fa6a06440d2870c9fcc78daef9a",
       "version_major": 2,
       "version_minor": 0
      },
      "text/plain": [
       "tokenizer_config.json:   0%|          | 0.00/352 [00:00<?, ?B/s]"
      ]
     },
     "metadata": {},
     "output_type": "display_data"
    },
    {
     "data": {
      "application/vnd.jupyter.widget-view+json": {
       "model_id": "0fabdcb06eb946bf9225f2df4a2f9b3a",
       "version_major": 2,
       "version_minor": 0
      },
      "text/plain": [
       "train_script.py:   0%|          | 0.00/13.2k [00:00<?, ?B/s]"
      ]
     },
     "metadata": {},
     "output_type": "display_data"
    },
    {
     "data": {
      "application/vnd.jupyter.widget-view+json": {
       "model_id": "6ffdb6b246ad40d9b01a352de9105ba2",
       "version_major": 2,
       "version_minor": 0
      },
      "text/plain": [
       "vocab.txt:   0%|          | 0.00/232k [00:00<?, ?B/s]"
      ]
     },
     "metadata": {},
     "output_type": "display_data"
    },
    {
     "data": {
      "application/vnd.jupyter.widget-view+json": {
       "model_id": "b8f741b52f1444c6ad62e62ca5950f87",
       "version_major": 2,
       "version_minor": 0
      },
      "text/plain": [
       "modules.json:   0%|          | 0.00/349 [00:00<?, ?B/s]"
      ]
     },
     "metadata": {},
     "output_type": "display_data"
    }
   ],
   "source": [
    "from langchain_community.vectorstores import FAISS\n",
    "from langchain.text_splitter import RecursiveCharacterTextSplitter\n",
    "\n",
    "\n",
    "text_splitter = RecursiveCharacterTextSplitter(chunk_size=3000, chunk_overlap=100)\n",
    "documents = text_splitter.split_documents(docs)\n",
    "vector = FAISS.from_documents(documents, HuggingFaceEmbeddings(model_name='sentence-transformers/all-MiniLM-L12-v2'))"
   ]
  },
  {
   "cell_type": "code",
   "execution_count": 20,
   "metadata": {},
   "outputs": [
    {
     "data": {
      "text/html": [
       "<pre style=\"white-space:pre;overflow-x:auto;line-height:normal;font-family:Menlo,'DejaVu Sans Mono',consolas,'Courier New',monospace\"><span style=\"color: #800080; text-decoration-color: #800080; font-weight: bold\">VectorStoreRetriever</span><span style=\"font-weight: bold\">(</span>\n",
       "    <span style=\"color: #808000; text-decoration-color: #808000\">tags</span>=<span style=\"font-weight: bold\">[</span><span style=\"color: #008000; text-decoration-color: #008000\">'FAISS'</span>, <span style=\"color: #008000; text-decoration-color: #008000\">'HuggingFaceEmbeddings'</span><span style=\"font-weight: bold\">]</span>,\n",
       "    <span style=\"color: #808000; text-decoration-color: #808000\">vectorstore</span>=<span style=\"font-weight: bold\">&lt;</span><span style=\"color: #ff00ff; text-decoration-color: #ff00ff; font-weight: bold\">langchain_community.vectorstores.faiss.FAISS</span><span style=\"color: #000000; text-decoration-color: #000000\"> object at </span><span style=\"color: #008080; text-decoration-color: #008080; font-weight: bold\">0x7d3df670d6d0</span><span style=\"font-weight: bold\">&gt;</span>\n",
       "<span style=\"font-weight: bold\">)</span>\n",
       "</pre>\n"
      ],
      "text/plain": [
       "\u001b[1;35mVectorStoreRetriever\u001b[0m\u001b[1m(\u001b[0m\n",
       "    \u001b[33mtags\u001b[0m=\u001b[1m[\u001b[0m\u001b[32m'FAISS'\u001b[0m, \u001b[32m'HuggingFaceEmbeddings'\u001b[0m\u001b[1m]\u001b[0m,\n",
       "    \u001b[33mvectorstore\u001b[0m=\u001b[1m<\u001b[0m\u001b[1;95mlangchain_community.vectorstores.faiss.FAISS\u001b[0m\u001b[39m object at \u001b[0m\u001b[1;36m0x7d3df670d6d0\u001b[0m\u001b[1m>\u001b[0m\n",
       "\u001b[1m)\u001b[0m\n"
      ]
     },
     "metadata": {},
     "output_type": "display_data"
    }
   ],
   "source": [
    "from langchain.chains import ConversationalRetrievalChain\n",
    "\n",
    "# Connect query to FAISS index using a retriever\n",
    "retriever = vector.as_retriever()\n",
    "\n",
    "qa_chain = ConversationalRetrievalChain.from_llm(\n",
    "    llm, retriever, return_source_documents=True\n",
    ")\n",
    "print(retriever)"
   ]
  },
  {
   "cell_type": "code",
   "execution_count": 21,
   "metadata": {},
   "outputs": [
    {
     "name": "stderr",
     "output_type": "stream",
     "text": [
      "/home/daryl/.asdf/installs/python/3.11.3/lib/python3.11/site-packages/langchain_core/_api/deprecation.py:117: LangChainDeprecationWarning: The function `__call__` was deprecated in LangChain 0.1.0 and will be removed in 0.2.0. Use invoke instead.\n",
      "  warn_deprecated(\n"
     ]
    },
    {
     "data": {
      "text/html": [
       "<pre style=\"white-space:pre;overflow-x:auto;line-height:normal;font-family:Menlo,'DejaVu Sans Mono',consolas,'Courier New',monospace\">Answer: I do not have enough information to answer this question. The provided context does not contain any \n",
       "information about integrating LangSmith with a web application.\n",
       "\n",
       "</pre>\n"
      ],
      "text/plain": [
       "Answer: I do not have enough information to answer this question. The provided context does not contain any \n",
       "information about integrating LangSmith with a web application.\n",
       "\n"
      ]
     },
     "metadata": {},
     "output_type": "display_data"
    },
    {
     "data": {
      "text/html": [
       "<pre style=\"white-space:pre;overflow-x:auto;line-height:normal;font-family:Menlo,'DejaVu Sans Mono',consolas,'Courier New',monospace\">Answer: I cannot find the answer to your question in the provided context.\n",
       "\n",
       "</pre>\n"
      ],
      "text/plain": [
       "Answer: I cannot find the answer to your question in the provided context.\n",
       "\n"
      ]
     },
     "metadata": {},
     "output_type": "display_data"
    },
    {
     "data": {
      "text/html": [
       "<pre style=\"white-space:pre;overflow-x:auto;line-height:normal;font-family:Menlo,'DejaVu Sans Mono',consolas,'Courier New',monospace\">Answer: I cannot find the answer to your question in this document.\n",
       "\n",
       "</pre>\n"
      ],
      "text/plain": [
       "Answer: I cannot find the answer to your question in this document.\n",
       "\n"
      ]
     },
     "metadata": {},
     "output_type": "display_data"
    },
    {
     "data": {
      "text/html": [
       "<pre style=\"white-space:pre;overflow-x:auto;line-height:normal;font-family:Menlo,'DejaVu Sans Mono',consolas,'Courier New',monospace\">Answer: I cannot find the answer to your question in the context you provided.\n",
       "\n",
       "</pre>\n"
      ],
      "text/plain": [
       "Answer: I cannot find the answer to your question in the context you provided.\n",
       "\n"
      ]
     },
     "metadata": {},
     "output_type": "display_data"
    },
    {
     "data": {
      "text/html": [
       "<pre style=\"white-space:pre;overflow-x:auto;line-height:normal;font-family:Menlo,'DejaVu Sans Mono',consolas,'Courier New',monospace\">Answer: I do not have enough information to answer this question. The provided text does not mention anything about\n",
       "integrating LangSmith with a web application.\n",
       "\n",
       "</pre>\n"
      ],
      "text/plain": [
       "Answer: I do not have enough information to answer this question. The provided text does not mention anything about\n",
       "integrating LangSmith with a web application.\n",
       "\n"
      ]
     },
     "metadata": {},
     "output_type": "display_data"
    },
    {
     "data": {
      "text/html": [
       "<pre style=\"white-space:pre;overflow-x:auto;line-height:normal;font-family:Menlo,'DejaVu Sans Mono',consolas,'Courier New',monospace\">Answer: I cannot find the answer to your question in the context provided.\n",
       "\n",
       "</pre>\n"
      ],
      "text/plain": [
       "Answer: I cannot find the answer to your question in the context provided.\n",
       "\n"
      ]
     },
     "metadata": {},
     "output_type": "display_data"
    },
    {
     "data": {
      "text/html": [
       "<pre style=\"white-space:pre;overflow-x:auto;line-height:normal;font-family:Menlo,'DejaVu Sans Mono',consolas,'Courier New',monospace\">Answer: I cannot find the answer to your question in the given context.\n",
       "\n",
       "</pre>\n"
      ],
      "text/plain": [
       "Answer: I cannot find the answer to your question in the given context.\n",
       "\n"
      ]
     },
     "metadata": {},
     "output_type": "display_data"
    },
    {
     "data": {
      "text/html": [
       "<pre style=\"white-space:pre;overflow-x:auto;line-height:normal;font-family:Menlo,'DejaVu Sans Mono',consolas,'Courier New',monospace\">Answer: I cannot find the answer to your question in the provided context.\n",
       "\n",
       "</pre>\n"
      ],
      "text/plain": [
       "Answer: I cannot find the answer to your question in the provided context.\n",
       "\n"
      ]
     },
     "metadata": {},
     "output_type": "display_data"
    },
    {
     "data": {
      "text/html": [
       "<pre style=\"white-space:pre;overflow-x:auto;line-height:normal;font-family:Menlo,'DejaVu Sans Mono',consolas,'Courier New',monospace\">Answer: I cannot find the answer to your question within the context you provided.\n",
       "\n",
       "</pre>\n"
      ],
      "text/plain": [
       "Answer: I cannot find the answer to your question within the context you provided.\n",
       "\n"
      ]
     },
     "metadata": {},
     "output_type": "display_data"
    },
    {
     "data": {
      "text/html": [
       "<pre style=\"white-space:pre;overflow-x:auto;line-height:normal;font-family:Menlo,'DejaVu Sans Mono',consolas,'Courier New',monospace\">Answer: I cannot answer this question as the provided context does not mention how LangSmith can be integrated with\n",
       "a web application.\n",
       "\n",
       "</pre>\n"
      ],
      "text/plain": [
       "Answer: I cannot answer this question as the provided context does not mention how LangSmith can be integrated with\n",
       "a web application.\n",
       "\n"
      ]
     },
     "metadata": {},
     "output_type": "display_data"
    },
    {
     "data": {
      "text/html": [
       "<pre style=\"white-space:pre;overflow-x:auto;line-height:normal;font-family:Menlo,'DejaVu Sans Mono',consolas,'Courier New',monospace\">Answer: I cannot find the answer to your question in the context provided.\n",
       "\n",
       "</pre>\n"
      ],
      "text/plain": [
       "Answer: I cannot find the answer to your question in the context provided.\n",
       "\n"
      ]
     },
     "metadata": {},
     "output_type": "display_data"
    },
    {
     "data": {
      "text/html": [
       "<pre style=\"white-space:pre;overflow-x:auto;line-height:normal;font-family:Menlo,'DejaVu Sans Mono',consolas,'Courier New',monospace\">Answer: I cannot find the answer to your question in the context provided.\n",
       "\n",
       "</pre>\n"
      ],
      "text/plain": [
       "Answer: I cannot find the answer to your question in the context provided.\n",
       "\n"
      ]
     },
     "metadata": {},
     "output_type": "display_data"
    },
    {
     "data": {
      "text/html": [
       "<pre style=\"white-space:pre;overflow-x:auto;line-height:normal;font-family:Menlo,'DejaVu Sans Mono',consolas,'Courier New',monospace\">Answer: I cannot answer this question because the answer cannot be found in the context you provided.\n",
       "\n",
       "</pre>\n"
      ],
      "text/plain": [
       "Answer: I cannot answer this question because the answer cannot be found in the context you provided.\n",
       "\n"
      ]
     },
     "metadata": {},
     "output_type": "display_data"
    },
    {
     "data": {
      "text/html": [
       "<pre style=\"white-space:pre;overflow-x:auto;line-height:normal;font-family:Menlo,'DejaVu Sans Mono',consolas,'Courier New',monospace\">Answer: I cannot answer this question based on the context provided.\n",
       "\n",
       "</pre>\n"
      ],
      "text/plain": [
       "Answer: I cannot answer this question based on the context provided.\n",
       "\n"
      ]
     },
     "metadata": {},
     "output_type": "display_data"
    },
    {
     "data": {
      "text/html": [
       "<pre style=\"white-space:pre;overflow-x:auto;line-height:normal;font-family:Menlo,'DejaVu Sans Mono',consolas,'Courier New',monospace\">Answer: I cannot answer this question as the provided context does not mention how to integrate LangSmith with a \n",
       "web application.\n",
       "\n",
       "</pre>\n"
      ],
      "text/plain": [
       "Answer: I cannot answer this question as the provided context does not mention how to integrate LangSmith with a \n",
       "web application.\n",
       "\n"
      ]
     },
     "metadata": {},
     "output_type": "display_data"
    },
    {
     "data": {
      "text/html": [
       "<pre style=\"white-space:pre;overflow-x:auto;line-height:normal;font-family:Menlo,'DejaVu Sans Mono',consolas,'Courier New',monospace\">Answer: I cannot find the answer to your question in the context provided.\n",
       "\n",
       "</pre>\n"
      ],
      "text/plain": [
       "Answer: I cannot find the answer to your question in the context provided.\n",
       "\n"
      ]
     },
     "metadata": {},
     "output_type": "display_data"
    },
    {
     "data": {
      "text/html": [
       "<pre style=\"white-space:pre;overflow-x:auto;line-height:normal;font-family:Menlo,'DejaVu Sans Mono',consolas,'Courier New',monospace\">Answer: I cannot find the answer to your question based on the context you provided.\n",
       "\n",
       "</pre>\n"
      ],
      "text/plain": [
       "Answer: I cannot find the answer to your question based on the context you provided.\n",
       "\n"
      ]
     },
     "metadata": {},
     "output_type": "display_data"
    },
    {
     "data": {
      "text/html": [
       "<pre style=\"white-space:pre;overflow-x:auto;line-height:normal;font-family:Menlo,'DejaVu Sans Mono',consolas,'Courier New',monospace\">Answer: I cannot answer this question as the provided context does not contain any information about whether \n",
       "LangSmith can be integrated with a web application.\n",
       "\n",
       "</pre>\n"
      ],
      "text/plain": [
       "Answer: I cannot answer this question as the provided context does not contain any information about whether \n",
       "LangSmith can be integrated with a web application.\n",
       "\n"
      ]
     },
     "metadata": {},
     "output_type": "display_data"
    },
    {
     "data": {
      "text/html": [
       "<pre style=\"white-space:pre;overflow-x:auto;line-height:normal;font-family:Menlo,'DejaVu Sans Mono',consolas,'Courier New',monospace\">Answer: I cannot find the answer to your question in the context provided.\n",
       "\n",
       "</pre>\n"
      ],
      "text/plain": [
       "Answer: I cannot find the answer to your question in the context provided.\n",
       "\n"
      ]
     },
     "metadata": {},
     "output_type": "display_data"
    },
    {
     "data": {
      "text/html": [
       "<pre style=\"white-space:pre;overflow-x:auto;line-height:normal;font-family:Menlo,'DejaVu Sans Mono',consolas,'Courier New',monospace\">Answer: I cannot answer this question as the provided context does not contain any information about integrating \n",
       "LangSmith with a web application.\n",
       "\n",
       "</pre>\n"
      ],
      "text/plain": [
       "Answer: I cannot answer this question as the provided context does not contain any information about integrating \n",
       "LangSmith with a web application.\n",
       "\n"
      ]
     },
     "metadata": {},
     "output_type": "display_data"
    },
    {
     "data": {
      "text/html": [
       "<pre style=\"white-space:pre;overflow-x:auto;line-height:normal;font-family:Menlo,'DejaVu Sans Mono',consolas,'Courier New',monospace\">Answer: I cannot answer this question as the provided context does not contain any information about how LangSmith \n",
       "can be integrated with a web application.\n",
       "\n",
       "</pre>\n"
      ],
      "text/plain": [
       "Answer: I cannot answer this question as the provided context does not contain any information about how LangSmith \n",
       "can be integrated with a web application.\n",
       "\n"
      ]
     },
     "metadata": {},
     "output_type": "display_data"
    },
    {
     "data": {
      "text/html": [
       "<pre style=\"white-space:pre;overflow-x:auto;line-height:normal;font-family:Menlo,'DejaVu Sans Mono',consolas,'Courier New',monospace\">Answer: I cannot find the answer to your question in the context you provided.\n",
       "\n",
       "</pre>\n"
      ],
      "text/plain": [
       "Answer: I cannot find the answer to your question in the context you provided.\n",
       "\n"
      ]
     },
     "metadata": {},
     "output_type": "display_data"
    },
    {
     "data": {
      "text/html": [
       "<pre style=\"white-space:pre;overflow-x:auto;line-height:normal;font-family:Menlo,'DejaVu Sans Mono',consolas,'Courier New',monospace\">Answer: I cannot find the answer to your question in the context you provided.\n",
       "\n",
       "</pre>\n"
      ],
      "text/plain": [
       "Answer: I cannot find the answer to your question in the context you provided.\n",
       "\n"
      ]
     },
     "metadata": {},
     "output_type": "display_data"
    },
    {
     "data": {
      "text/html": [
       "<pre style=\"white-space:pre;overflow-x:auto;line-height:normal;font-family:Menlo,'DejaVu Sans Mono',consolas,'Courier New',monospace\">Answer: I cannot find the answer to your question in the provided context.\n",
       "\n",
       "</pre>\n"
      ],
      "text/plain": [
       "Answer: I cannot find the answer to your question in the provided context.\n",
       "\n"
      ]
     },
     "metadata": {},
     "output_type": "display_data"
    },
    {
     "data": {
      "text/html": [
       "<pre style=\"white-space:pre;overflow-x:auto;line-height:normal;font-family:Menlo,'DejaVu Sans Mono',consolas,'Courier New',monospace\">Answer: I'm sorry, but the provided context does not contain information on how to integrate LangSmith with a web \n",
       "application. Therefore, I cannot answer this question.\n",
       "\n",
       "</pre>\n"
      ],
      "text/plain": [
       "Answer: I'm sorry, but the provided context does not contain information on how to integrate LangSmith with a web \n",
       "application. Therefore, I cannot answer this question.\n",
       "\n"
      ]
     },
     "metadata": {},
     "output_type": "display_data"
    }
   ],
   "source": [
    "import sys\n",
    "\n",
    "chat_history = []\n",
    "while True:\n",
    "    query = input(\"Prompt: \")\n",
    "    result = qa_chain({\"question\": query, \"chat_history\": chat_history})\n",
    "    print(\"Answer: \" + result[\"answer\"] + \"\\n\")\n",
    "    chat_history.append((query, result[\"answer\"]))"
   ]
  }
 ],
 "metadata": {
  "kernelspec": {
   "display_name": "Python 3",
   "language": "python",
   "name": "python3"
  },
  "language_info": {
   "codemirror_mode": {
    "name": "ipython",
    "version": 3
   },
   "file_extension": ".py",
   "mimetype": "text/x-python",
   "name": "python",
   "nbconvert_exporter": "python",
   "pygments_lexer": "ipython3",
   "version": "3.11.3"
  }
 },
 "nbformat": 4,
 "nbformat_minor": 2
}
